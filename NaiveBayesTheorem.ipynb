{
 "cells": [
  {
   "cell_type": "markdown",
   "metadata": {},
   "source": [
    "# NAIVE BAYES\n",
    "We'll cheat by using sklearn.naive_bayes to train a spam classifier! Most of the code is just loading our training data into a pandas DataFrame that we can play with:"
   ]
  },
  {
   "cell_type": "code",
   "execution_count": 39,
   "metadata": {},
   "outputs": [],
   "source": [
    "import os \n",
    "import io\n",
    "import numpy as np\n",
    "from pandas import DataFrame\n",
    "from sklearn.feature_extraction.text import CountVectorizer\n",
    "from sklearn.naive_bayes import MultinomialNB\n",
    "\n",
    "def readFiles(path):\n",
    "    for root, dirnames, filenames in os.walk(path):\n",
    "        for filename in filenames:\n",
    "            path = os.path.join(root, filename)\n",
    "\n",
    "            inBody = False\n",
    "            lines = []\n",
    "            f = io.open(path, 'r', encoding='latin1')\n",
    "            for line in f:\n",
    "                if inBody:\n",
    "                    lines.append(line)\n",
    "                elif line == '\\n':\n",
    "                    inBody = True\n",
    "            f.close()\n",
    "            message = '\\n'.join(lines)\n",
    "            yield path, message\n",
    "\n",
    "\n",
    "def dataFrameFromDirectory(path, classification):\n",
    "    rows = []\n",
    "    index = []\n",
    "    for filename, message in readFiles(path):\n",
    "        rows.append({'message': message, 'class': classification})\n",
    "        index.append(filename)\n",
    "\n",
    "    return DataFrame(rows, index=index)\n",
    "\n",
    "data = DataFrame({'message': [], 'class': []})\n",
    "\n",
    "data = data.append(dataFrameFromDirectory('/home/william/Dev/ml/emails/spam', 'spam'))\n",
    "data = data.append(dataFrameFromDirectory('/home/william/Dev/ml/emails/ham', 'ham'))\n"
   ]
  },
  {
   "cell_type": "code",
   "execution_count": 40,
   "metadata": {},
   "outputs": [
    {
     "data": {
      "text/html": [
       "<div>\n",
       "<style scoped>\n",
       "    .dataframe tbody tr th:only-of-type {\n",
       "        vertical-align: middle;\n",
       "    }\n",
       "\n",
       "    .dataframe tbody tr th {\n",
       "        vertical-align: top;\n",
       "    }\n",
       "\n",
       "    .dataframe thead th {\n",
       "        text-align: right;\n",
       "    }\n",
       "</style>\n",
       "<table border=\"1\" class=\"dataframe\">\n",
       "  <thead>\n",
       "    <tr style=\"text-align: right;\">\n",
       "      <th></th>\n",
       "      <th>message</th>\n",
       "      <th>class</th>\n",
       "    </tr>\n",
       "  </thead>\n",
       "  <tbody>\n",
       "    <tr>\n",
       "      <th>/home/william/Dev/ml/emails/spam/00347.0958e79c14164f0f902d863f41156c0b</th>\n",
       "      <td>Opportunity is knocking. Why?\\n\\n\\n\\nBecause m...</td>\n",
       "      <td>spam</td>\n",
       "    </tr>\n",
       "    <tr>\n",
       "      <th>/home/william/Dev/ml/emails/spam/00276.a6e447390e371ddba7cee092bb0ec98f</th>\n",
       "      <td>&lt;html&gt;\\n\\n\\n\\n&lt;head&gt;\\n\\n&lt;meta http-equiv=3D\"Co...</td>\n",
       "      <td>spam</td>\n",
       "    </tr>\n",
       "    <tr>\n",
       "      <th>/home/william/Dev/ml/emails/spam/00357.b523d4209d633d6fdf86b93bc19e3aa2</th>\n",
       "      <td>&lt;html&gt;\\n\\n&lt;head&gt;\\n\\n&lt;title&gt;Digital Publishing ...</td>\n",
       "      <td>spam</td>\n",
       "    </tr>\n",
       "    <tr>\n",
       "      <th>/home/william/Dev/ml/emails/spam/00270.5dcd9ce3be2992222b9038d7bf75a23a</th>\n",
       "      <td>Dear Partner to be,\\n\\n\\n\\nFirst, I must apolo...</td>\n",
       "      <td>spam</td>\n",
       "    </tr>\n",
       "    <tr>\n",
       "      <th>/home/william/Dev/ml/emails/spam/00381.7d436777379ad18167e4614190b206cf</th>\n",
       "      <td>================This Is Definitely the Answer ...</td>\n",
       "      <td>spam</td>\n",
       "    </tr>\n",
       "    <tr>\n",
       "      <th>/home/william/Dev/ml/emails/spam/00070.ab34b6c044a55bef3d6c1f64b7521773</th>\n",
       "      <td>When America's top companies compete for your ...</td>\n",
       "      <td>spam</td>\n",
       "    </tr>\n",
       "    <tr>\n",
       "      <th>/home/william/Dev/ml/emails/spam/00425.1434e0ab4e5235b64825b4c2a0999d76</th>\n",
       "      <td>&lt;HTML&gt;&lt;HEAD&gt;&lt;TITLE&gt;Hi i'm Rita !!!&lt;/TITLE&gt;\\n\\n...</td>\n",
       "      <td>spam</td>\n",
       "    </tr>\n",
       "    <tr>\n",
       "      <th>/home/william/Dev/ml/emails/spam/00063.2334fb4e465fc61e8406c75918ff72ed</th>\n",
       "      <td>IS YOUR BUSINESS MAKING MONEY!\\n\\nSet Up To Ac...</td>\n",
       "      <td>spam</td>\n",
       "    </tr>\n",
       "    <tr>\n",
       "      <th>/home/william/Dev/ml/emails/spam/00182.1b9ba0f95506a6f2bf256f40fad0687d</th>\n",
       "      <td>All our mailings are sent complying to the pro...</td>\n",
       "      <td>spam</td>\n",
       "    </tr>\n",
       "    <tr>\n",
       "      <th>/home/william/Dev/ml/emails/spam/00316.311d11f764c6e452b2f0208b53b94ea2</th>\n",
       "      <td>NEW - NEW - NEW   IN THE MARKET\\n\\nJUST RELEAS...</td>\n",
       "      <td>spam</td>\n",
       "    </tr>\n",
       "  </tbody>\n",
       "</table>\n",
       "</div>"
      ],
      "text/plain": [
       "                                                                                              message  \\\n",
       "/home/william/Dev/ml/emails/spam/00347.0958e79c...  Opportunity is knocking. Why?\\n\\n\\n\\nBecause m...   \n",
       "/home/william/Dev/ml/emails/spam/00276.a6e44739...  <html>\\n\\n\\n\\n<head>\\n\\n<meta http-equiv=3D\"Co...   \n",
       "/home/william/Dev/ml/emails/spam/00357.b523d420...  <html>\\n\\n<head>\\n\\n<title>Digital Publishing ...   \n",
       "/home/william/Dev/ml/emails/spam/00270.5dcd9ce3...  Dear Partner to be,\\n\\n\\n\\nFirst, I must apolo...   \n",
       "/home/william/Dev/ml/emails/spam/00381.7d436777...  ================This Is Definitely the Answer ...   \n",
       "/home/william/Dev/ml/emails/spam/00070.ab34b6c0...  When America's top companies compete for your ...   \n",
       "/home/william/Dev/ml/emails/spam/00425.1434e0ab...  <HTML><HEAD><TITLE>Hi i'm Rita !!!</TITLE>\\n\\n...   \n",
       "/home/william/Dev/ml/emails/spam/00063.2334fb4e...  IS YOUR BUSINESS MAKING MONEY!\\n\\nSet Up To Ac...   \n",
       "/home/william/Dev/ml/emails/spam/00182.1b9ba0f9...  All our mailings are sent complying to the pro...   \n",
       "/home/william/Dev/ml/emails/spam/00316.311d11f7...  NEW - NEW - NEW   IN THE MARKET\\n\\nJUST RELEAS...   \n",
       "\n",
       "                                                   class  \n",
       "/home/william/Dev/ml/emails/spam/00347.0958e79c...  spam  \n",
       "/home/william/Dev/ml/emails/spam/00276.a6e44739...  spam  \n",
       "/home/william/Dev/ml/emails/spam/00357.b523d420...  spam  \n",
       "/home/william/Dev/ml/emails/spam/00270.5dcd9ce3...  spam  \n",
       "/home/william/Dev/ml/emails/spam/00381.7d436777...  spam  \n",
       "/home/william/Dev/ml/emails/spam/00070.ab34b6c0...  spam  \n",
       "/home/william/Dev/ml/emails/spam/00425.1434e0ab...  spam  \n",
       "/home/william/Dev/ml/emails/spam/00063.2334fb4e...  spam  \n",
       "/home/william/Dev/ml/emails/spam/00182.1b9ba0f9...  spam  \n",
       "/home/william/Dev/ml/emails/spam/00316.311d11f7...  spam  "
      ]
     },
     "execution_count": 40,
     "metadata": {},
     "output_type": "execute_result"
    }
   ],
   "source": [
    "data.head(10)"
   ]
  },
  {
   "cell_type": "markdown",
   "metadata": {},
   "source": [
    "Now we will use a CountVectorizer to split up each message into its list of words, and throw that into a MultinomialNB classifier. Call fit() and we've got a trained spam filter ready to go! It's just that easy."
   ]
  },
  {
   "cell_type": "code",
   "execution_count": 41,
   "metadata": {},
   "outputs": [
    {
     "data": {
      "text/plain": [
       "MultinomialNB(alpha=1.0, class_prior=None, fit_prior=True)"
      ]
     },
     "execution_count": 41,
     "metadata": {},
     "output_type": "execute_result"
    }
   ],
   "source": [
    "vectorizer = CountVectorizer()\n",
    "counts = vectorizer.fit_transform(data['message'].values)\n",
    "\n",
    "classifier = MultinomialNB()\n",
    "targets = data['class'].values\n",
    "classifier.fit(counts, targets)"
   ]
  },
  {
   "cell_type": "markdown",
   "metadata": {},
   "source": [
    "Let's give it a try"
   ]
  },
  {
   "cell_type": "code",
   "execution_count": 42,
   "metadata": {},
   "outputs": [
    {
     "data": {
      "text/plain": [
       "array(['spam', 'ham'], dtype='<U4')"
      ]
     },
     "execution_count": 42,
     "metadata": {},
     "output_type": "execute_result"
    }
   ],
   "source": [
    "examples = ['Free opportunity knocking!!', \"Hi Will, how about a game of golf tomorrow?\"]\n",
    "example_counts = vectorizer.transform(examples)\n",
    "predictions = classifier.predict(example_counts)\n",
    "predictions"
   ]
  },
  {
   "cell_type": "code",
   "execution_count": 43,
   "metadata": {},
   "outputs": [
    {
     "data": {
      "text/plain": [
       "array(['spam', 'ham'], dtype='<U4')"
      ]
     },
     "execution_count": 43,
     "metadata": {},
     "output_type": "execute_result"
    }
   ],
   "source": [
    "examples = ['Free viagra!!!', \"Hello Will, care for a game of chess this evening?\"]\n",
    "example_counts = vectorizer.transform(examples)\n",
    "predictions = classifier.predict(example_counts)\n",
    "predictions"
   ]
  },
  {
   "cell_type": "markdown",
   "metadata": {},
   "source": [
    "Our data set is small, so our spam classifier isn't actually very good."
   ]
  },
  {
   "cell_type": "code",
   "execution_count": null,
   "metadata": {},
   "outputs": [],
   "source": []
  }
 ],
 "metadata": {
  "kernelspec": {
   "display_name": "Python 3",
   "language": "python",
   "name": "python3"
  },
  "language_info": {
   "codemirror_mode": {
    "name": "ipython",
    "version": 3
   },
   "file_extension": ".py",
   "mimetype": "text/x-python",
   "name": "python",
   "nbconvert_exporter": "python",
   "pygments_lexer": "ipython3",
   "version": "3.8.2"
  }
 },
 "nbformat": 4,
 "nbformat_minor": 4
}
